{
 "cells": [
  {
   "cell_type": "markdown",
   "metadata": {},
   "source": [
    "<img src = \"https://global-uploads.webflow.com/5f0d53c042a9ed6288de7f8d/5f6337ae2cfaa10946ceeb06_Hacktiv8%20logo%20horizontal%2001%20black-p-500.png\" width = 400>\n",
    "<h1 align=center><font size = 5>Hacktiv8 PTP Introduction to Data Science Projects 2 // Statistical Treatment for Datasets</font></h1>"
   ]
  },
  {
   "cell_type": "markdown",
   "metadata": {},
   "source": [
    "Title: Hacktiv8 PTP Introduction to Data Science Projects 2: Statistical Treatment for Datasets Starter Notebook\\\n",
    "Last Updated: September 20, 2020\\\n",
    "Author: Raka Ardhi"
   ]
  },
  {
   "cell_type": "markdown",
   "metadata": {},
   "source": [
    "## NYC Property Sales Introduction\n",
    "\n",
    "The aim of this projects is to introduce you to practical statistic with Python as concrete and as consistent as possible. Using what you’ve learned; download the NYC Property Sales Dataset from Kaggle. This dataset is a record of every building or building unit (apartment, etc.) sold in the New York City property market over a 12-month period.\n",
    "\n",
    "This dataset contains the location, address, type, sale price, and sale date of building units sold. A reference on the trickier fields:\n",
    "\n",
    "* `BOROUGH`: A digit code for the borough the property is located in; in order these are Manhattan (1), Bronx (2), Brooklyn (3), Queens (4), and Staten Island (5).\n",
    "* `BLOCK`; `LOT`: The combination of borough, block, and lot forms a unique key for property in New York City. Commonly called a BBL.\n",
    "* `BUILDING CLASS AT PRESENT` and `BUILDING CLASS AT TIME OF SALE`: The type of building at various points in time.\n",
    "\n",
    "Note that because this is a financial transaction dataset, there are some points that need to be kept in mind:\n",
    "\n",
    "* Many sales occur with a nonsensically small dollar amount: $0 most commonly. These sales are actually transfers of deeds between parties: for example, parents transferring ownership to their home to a child after moving out for retirement.\n",
    "* This dataset uses the financial definition of a building/building unit, for tax purposes. In case a single entity owns the building in question, a sale covers the value of the entire building. In case a building is owned piecemeal by its residents (a condominium), a sale refers to a single apartment (or group of apartments) owned by some individual.\n",
    "\n",
    "Formulate a question and derive a statistical hypothesis test to answer the question. You have to demonstrate that you’re able to make decisions using data in a scientific manner. Examples of questions can be:\n",
    "\n",
    "* Is there a difference in unit sold between property built in 1900-2000 and 2001 so on?\n",
    "* Is there a difference in unit sold based on building category?\n",
    "* What can you discover about New York City real estate by looking at a year's worth of raw transaction records? Can you spot trends in the market?\n",
    "\n",
    "Please make sure that you have completed the lesson for this course, namely Python and Practical Statistics which is part of this Program.\n",
    "\n",
    "**Note:** You can take a look at Project Rubric below:\n",
    "\n",
    "| Code Review |  |\n",
    "| :--- | :--- |\n",
    "| CRITERIA | SPECIFICATIONS |\n",
    "| Mean | Student implement mean to specifics column/data using pandas, numpy, or scipy|\n",
    "| Median | Student implement median to specifics column/data using pandas, numpy, or scipy|\n",
    "| Modus | Student implement modus to specifics column/data using pandas, numpy, or scipy|\n",
    "| Central Tendencies | Implementing Central Tendencies through dataset |\n",
    "| Box Plot | Implementing Box Plot to visualize spesific data |\n",
    "| Z-Score | Implementing Z-score concept to specific data |\n",
    "| Probability Distribution | Student analyzing distribution of data and gain insight from the distribution |\n",
    "| Intervals | Implementing Confidence or Prediction Intervals |\n",
    "| Hypotesis Testing | Made 1 Hypotesis and get conclusion from data |\n",
    "| Preprocessing | Student preprocess dataset before applying the statistical treatment. |\n",
    "| Does the code run without errors? | The code runs without errors. All code is functional and formatted properly. |\n",
    "\n",
    "| Readability |  |\n",
    "| :--- | :--- |\n",
    "| CRITERIA | SPECIFICATIONS |\n",
    "| Well Documented | All cell in notebook are well documented with markdown above each cell explaining the code|\n",
    "\n",
    "| Analysis |  |\n",
    "| :--- | :--- |\n",
    "| CRITERIA | SPECIFICATIONS |\n",
    "|Overall Analysis| Gain an insight/conclusion of overall plots that answer the hypotesis |\n",
    "\n",
    "**Focus on \"Graded-Function\" sections.**\n",
    "\n",
    "------------"
   ]
  },
  {
   "cell_type": "markdown",
   "metadata": {},
   "source": [
    "## Data Preparation\n",
    "\n",
    "Load the library you need.\n",
    "\n",
    "Get your NYC property data from [here](https://www.kaggle.com/new-york-city/nyc-property-sales) and load the dataframe to your notebook."
   ]
  },
  {
   "cell_type": "code",
   "execution_count": 1,
   "metadata": {},
   "outputs": [],
   "source": [
    "# Get your import statement here\n",
    "import pandas as pd\n",
    "import numpy as np \n",
    "import statsmodels.api as sm\n",
    "import scipy.stats.distributions as dist \n",
    "import seaborn as sns\n",
    "import matplotlib.pyplot as plt\n",
    "from scipy import stats\n",
    "sns.set(color_codes=True)\n",
    "sns.set(rc={'figure.figsize':(4,5)})"
   ]
  },
  {
   "cell_type": "code",
   "execution_count": 2,
   "metadata": {},
   "outputs": [
    {
     "name": "stdout",
     "output_type": "stream",
     "text": [
      "Data read into a pandas dataframe!\n"
     ]
    }
   ],
   "source": [
    "# Load your dataset here\n",
    "df = pd.read_csv('nyc-rolling-sales.csv')\n",
    "print ('Data read into a pandas dataframe!')"
   ]
  },
  {
   "cell_type": "markdown",
   "metadata": {},
   "source": [
    "Let's view the top 5 rows of the dataset using the `head()` function."
   ]
  },
  {
   "cell_type": "code",
   "execution_count": 3,
   "metadata": {},
   "outputs": [
    {
     "data": {
      "text/html": [
       "<div>\n",
       "<style scoped>\n",
       "    .dataframe tbody tr th:only-of-type {\n",
       "        vertical-align: middle;\n",
       "    }\n",
       "\n",
       "    .dataframe tbody tr th {\n",
       "        vertical-align: top;\n",
       "    }\n",
       "\n",
       "    .dataframe thead th {\n",
       "        text-align: right;\n",
       "    }\n",
       "</style>\n",
       "<table border=\"1\" class=\"dataframe\">\n",
       "  <thead>\n",
       "    <tr style=\"text-align: right;\">\n",
       "      <th></th>\n",
       "      <th>Unnamed: 0</th>\n",
       "      <th>BOROUGH</th>\n",
       "      <th>NEIGHBORHOOD</th>\n",
       "      <th>BUILDING CLASS CATEGORY</th>\n",
       "      <th>TAX CLASS AT PRESENT</th>\n",
       "      <th>BLOCK</th>\n",
       "      <th>LOT</th>\n",
       "      <th>EASE-MENT</th>\n",
       "      <th>BUILDING CLASS AT PRESENT</th>\n",
       "      <th>ADDRESS</th>\n",
       "      <th>...</th>\n",
       "      <th>RESIDENTIAL UNITS</th>\n",
       "      <th>COMMERCIAL UNITS</th>\n",
       "      <th>TOTAL UNITS</th>\n",
       "      <th>LAND SQUARE FEET</th>\n",
       "      <th>GROSS SQUARE FEET</th>\n",
       "      <th>YEAR BUILT</th>\n",
       "      <th>TAX CLASS AT TIME OF SALE</th>\n",
       "      <th>BUILDING CLASS AT TIME OF SALE</th>\n",
       "      <th>SALE PRICE</th>\n",
       "      <th>SALE DATE</th>\n",
       "    </tr>\n",
       "  </thead>\n",
       "  <tbody>\n",
       "    <tr>\n",
       "      <th>0</th>\n",
       "      <td>4</td>\n",
       "      <td>1</td>\n",
       "      <td>ALPHABET CITY</td>\n",
       "      <td>07 RENTALS - WALKUP APARTMENTS</td>\n",
       "      <td>2A</td>\n",
       "      <td>392</td>\n",
       "      <td>6</td>\n",
       "      <td></td>\n",
       "      <td>C2</td>\n",
       "      <td>153 AVENUE B</td>\n",
       "      <td>...</td>\n",
       "      <td>5</td>\n",
       "      <td>0</td>\n",
       "      <td>5</td>\n",
       "      <td>1633</td>\n",
       "      <td>6440</td>\n",
       "      <td>1900</td>\n",
       "      <td>2</td>\n",
       "      <td>C2</td>\n",
       "      <td>6625000</td>\n",
       "      <td>2017-07-19 00:00:00</td>\n",
       "    </tr>\n",
       "    <tr>\n",
       "      <th>1</th>\n",
       "      <td>5</td>\n",
       "      <td>1</td>\n",
       "      <td>ALPHABET CITY</td>\n",
       "      <td>07 RENTALS - WALKUP APARTMENTS</td>\n",
       "      <td>2</td>\n",
       "      <td>399</td>\n",
       "      <td>26</td>\n",
       "      <td></td>\n",
       "      <td>C7</td>\n",
       "      <td>234 EAST 4TH   STREET</td>\n",
       "      <td>...</td>\n",
       "      <td>28</td>\n",
       "      <td>3</td>\n",
       "      <td>31</td>\n",
       "      <td>4616</td>\n",
       "      <td>18690</td>\n",
       "      <td>1900</td>\n",
       "      <td>2</td>\n",
       "      <td>C7</td>\n",
       "      <td>-</td>\n",
       "      <td>2016-12-14 00:00:00</td>\n",
       "    </tr>\n",
       "    <tr>\n",
       "      <th>2</th>\n",
       "      <td>6</td>\n",
       "      <td>1</td>\n",
       "      <td>ALPHABET CITY</td>\n",
       "      <td>07 RENTALS - WALKUP APARTMENTS</td>\n",
       "      <td>2</td>\n",
       "      <td>399</td>\n",
       "      <td>39</td>\n",
       "      <td></td>\n",
       "      <td>C7</td>\n",
       "      <td>197 EAST 3RD   STREET</td>\n",
       "      <td>...</td>\n",
       "      <td>16</td>\n",
       "      <td>1</td>\n",
       "      <td>17</td>\n",
       "      <td>2212</td>\n",
       "      <td>7803</td>\n",
       "      <td>1900</td>\n",
       "      <td>2</td>\n",
       "      <td>C7</td>\n",
       "      <td>-</td>\n",
       "      <td>2016-12-09 00:00:00</td>\n",
       "    </tr>\n",
       "    <tr>\n",
       "      <th>3</th>\n",
       "      <td>7</td>\n",
       "      <td>1</td>\n",
       "      <td>ALPHABET CITY</td>\n",
       "      <td>07 RENTALS - WALKUP APARTMENTS</td>\n",
       "      <td>2B</td>\n",
       "      <td>402</td>\n",
       "      <td>21</td>\n",
       "      <td></td>\n",
       "      <td>C4</td>\n",
       "      <td>154 EAST 7TH STREET</td>\n",
       "      <td>...</td>\n",
       "      <td>10</td>\n",
       "      <td>0</td>\n",
       "      <td>10</td>\n",
       "      <td>2272</td>\n",
       "      <td>6794</td>\n",
       "      <td>1913</td>\n",
       "      <td>2</td>\n",
       "      <td>C4</td>\n",
       "      <td>3936272</td>\n",
       "      <td>2016-09-23 00:00:00</td>\n",
       "    </tr>\n",
       "    <tr>\n",
       "      <th>4</th>\n",
       "      <td>8</td>\n",
       "      <td>1</td>\n",
       "      <td>ALPHABET CITY</td>\n",
       "      <td>07 RENTALS - WALKUP APARTMENTS</td>\n",
       "      <td>2A</td>\n",
       "      <td>404</td>\n",
       "      <td>55</td>\n",
       "      <td></td>\n",
       "      <td>C2</td>\n",
       "      <td>301 EAST 10TH   STREET</td>\n",
       "      <td>...</td>\n",
       "      <td>6</td>\n",
       "      <td>0</td>\n",
       "      <td>6</td>\n",
       "      <td>2369</td>\n",
       "      <td>4615</td>\n",
       "      <td>1900</td>\n",
       "      <td>2</td>\n",
       "      <td>C2</td>\n",
       "      <td>8000000</td>\n",
       "      <td>2016-11-17 00:00:00</td>\n",
       "    </tr>\n",
       "  </tbody>\n",
       "</table>\n",
       "<p>5 rows × 22 columns</p>\n",
       "</div>"
      ],
      "text/plain": [
       "   Unnamed: 0  BOROUGH   NEIGHBORHOOD  \\\n",
       "0           4        1  ALPHABET CITY   \n",
       "1           5        1  ALPHABET CITY   \n",
       "2           6        1  ALPHABET CITY   \n",
       "3           7        1  ALPHABET CITY   \n",
       "4           8        1  ALPHABET CITY   \n",
       "\n",
       "                       BUILDING CLASS CATEGORY TAX CLASS AT PRESENT  BLOCK  \\\n",
       "0  07 RENTALS - WALKUP APARTMENTS                                2A    392   \n",
       "1  07 RENTALS - WALKUP APARTMENTS                                 2    399   \n",
       "2  07 RENTALS - WALKUP APARTMENTS                                 2    399   \n",
       "3  07 RENTALS - WALKUP APARTMENTS                                2B    402   \n",
       "4  07 RENTALS - WALKUP APARTMENTS                                2A    404   \n",
       "\n",
       "   LOT EASE-MENT BUILDING CLASS AT PRESENT                 ADDRESS  ...  \\\n",
       "0    6                                  C2            153 AVENUE B  ...   \n",
       "1   26                                  C7   234 EAST 4TH   STREET  ...   \n",
       "2   39                                  C7   197 EAST 3RD   STREET  ...   \n",
       "3   21                                  C4     154 EAST 7TH STREET  ...   \n",
       "4   55                                  C2  301 EAST 10TH   STREET  ...   \n",
       "\n",
       "  RESIDENTIAL UNITS  COMMERCIAL UNITS  TOTAL UNITS  LAND SQUARE FEET  \\\n",
       "0                 5                 0            5              1633   \n",
       "1                28                 3           31              4616   \n",
       "2                16                 1           17              2212   \n",
       "3                10                 0           10              2272   \n",
       "4                 6                 0            6              2369   \n",
       "\n",
       "   GROSS SQUARE FEET YEAR BUILT TAX CLASS AT TIME OF SALE  \\\n",
       "0               6440       1900                         2   \n",
       "1              18690       1900                         2   \n",
       "2               7803       1900                         2   \n",
       "3               6794       1913                         2   \n",
       "4               4615       1900                         2   \n",
       "\n",
       "   BUILDING CLASS AT TIME OF SALE  SALE PRICE            SALE DATE  \n",
       "0                              C2     6625000  2017-07-19 00:00:00  \n",
       "1                              C7         -    2016-12-14 00:00:00  \n",
       "2                              C7         -    2016-12-09 00:00:00  \n",
       "3                              C4     3936272  2016-09-23 00:00:00  \n",
       "4                              C2     8000000  2016-11-17 00:00:00  \n",
       "\n",
       "[5 rows x 22 columns]"
      ]
     },
     "execution_count": 3,
     "metadata": {},
     "output_type": "execute_result"
    }
   ],
   "source": [
    "# Write your syntax here\n",
    "df.head(5)"
   ]
  },
  {
   "cell_type": "markdown",
   "metadata": {},
   "source": [
    "We can also veiw the bottom 5 rows of the dataset using the `tail()` function."
   ]
  },
  {
   "cell_type": "code",
   "execution_count": 4,
   "metadata": {},
   "outputs": [
    {
     "data": {
      "text/html": [
       "<div>\n",
       "<style scoped>\n",
       "    .dataframe tbody tr th:only-of-type {\n",
       "        vertical-align: middle;\n",
       "    }\n",
       "\n",
       "    .dataframe tbody tr th {\n",
       "        vertical-align: top;\n",
       "    }\n",
       "\n",
       "    .dataframe thead th {\n",
       "        text-align: right;\n",
       "    }\n",
       "</style>\n",
       "<table border=\"1\" class=\"dataframe\">\n",
       "  <thead>\n",
       "    <tr style=\"text-align: right;\">\n",
       "      <th></th>\n",
       "      <th>Unnamed: 0</th>\n",
       "      <th>BOROUGH</th>\n",
       "      <th>NEIGHBORHOOD</th>\n",
       "      <th>BUILDING CLASS CATEGORY</th>\n",
       "      <th>TAX CLASS AT PRESENT</th>\n",
       "      <th>BLOCK</th>\n",
       "      <th>LOT</th>\n",
       "      <th>EASE-MENT</th>\n",
       "      <th>BUILDING CLASS AT PRESENT</th>\n",
       "      <th>ADDRESS</th>\n",
       "      <th>...</th>\n",
       "      <th>RESIDENTIAL UNITS</th>\n",
       "      <th>COMMERCIAL UNITS</th>\n",
       "      <th>TOTAL UNITS</th>\n",
       "      <th>LAND SQUARE FEET</th>\n",
       "      <th>GROSS SQUARE FEET</th>\n",
       "      <th>YEAR BUILT</th>\n",
       "      <th>TAX CLASS AT TIME OF SALE</th>\n",
       "      <th>BUILDING CLASS AT TIME OF SALE</th>\n",
       "      <th>SALE PRICE</th>\n",
       "      <th>SALE DATE</th>\n",
       "    </tr>\n",
       "  </thead>\n",
       "  <tbody>\n",
       "    <tr>\n",
       "      <th>84543</th>\n",
       "      <td>8409</td>\n",
       "      <td>5</td>\n",
       "      <td>WOODROW</td>\n",
       "      <td>02 TWO FAMILY DWELLINGS</td>\n",
       "      <td>1</td>\n",
       "      <td>7349</td>\n",
       "      <td>34</td>\n",
       "      <td></td>\n",
       "      <td>B9</td>\n",
       "      <td>37 QUAIL LANE</td>\n",
       "      <td>...</td>\n",
       "      <td>2</td>\n",
       "      <td>0</td>\n",
       "      <td>2</td>\n",
       "      <td>2400</td>\n",
       "      <td>2575</td>\n",
       "      <td>1998</td>\n",
       "      <td>1</td>\n",
       "      <td>B9</td>\n",
       "      <td>450000</td>\n",
       "      <td>2016-11-28 00:00:00</td>\n",
       "    </tr>\n",
       "    <tr>\n",
       "      <th>84544</th>\n",
       "      <td>8410</td>\n",
       "      <td>5</td>\n",
       "      <td>WOODROW</td>\n",
       "      <td>02 TWO FAMILY DWELLINGS</td>\n",
       "      <td>1</td>\n",
       "      <td>7349</td>\n",
       "      <td>78</td>\n",
       "      <td></td>\n",
       "      <td>B9</td>\n",
       "      <td>32 PHEASANT LANE</td>\n",
       "      <td>...</td>\n",
       "      <td>2</td>\n",
       "      <td>0</td>\n",
       "      <td>2</td>\n",
       "      <td>2498</td>\n",
       "      <td>2377</td>\n",
       "      <td>1998</td>\n",
       "      <td>1</td>\n",
       "      <td>B9</td>\n",
       "      <td>550000</td>\n",
       "      <td>2017-04-21 00:00:00</td>\n",
       "    </tr>\n",
       "    <tr>\n",
       "      <th>84545</th>\n",
       "      <td>8411</td>\n",
       "      <td>5</td>\n",
       "      <td>WOODROW</td>\n",
       "      <td>02 TWO FAMILY DWELLINGS</td>\n",
       "      <td>1</td>\n",
       "      <td>7351</td>\n",
       "      <td>60</td>\n",
       "      <td></td>\n",
       "      <td>B2</td>\n",
       "      <td>49 PITNEY AVENUE</td>\n",
       "      <td>...</td>\n",
       "      <td>2</td>\n",
       "      <td>0</td>\n",
       "      <td>2</td>\n",
       "      <td>4000</td>\n",
       "      <td>1496</td>\n",
       "      <td>1925</td>\n",
       "      <td>1</td>\n",
       "      <td>B2</td>\n",
       "      <td>460000</td>\n",
       "      <td>2017-07-05 00:00:00</td>\n",
       "    </tr>\n",
       "    <tr>\n",
       "      <th>84546</th>\n",
       "      <td>8412</td>\n",
       "      <td>5</td>\n",
       "      <td>WOODROW</td>\n",
       "      <td>22 STORE BUILDINGS</td>\n",
       "      <td>4</td>\n",
       "      <td>7100</td>\n",
       "      <td>28</td>\n",
       "      <td></td>\n",
       "      <td>K6</td>\n",
       "      <td>2730 ARTHUR KILL ROAD</td>\n",
       "      <td>...</td>\n",
       "      <td>0</td>\n",
       "      <td>7</td>\n",
       "      <td>7</td>\n",
       "      <td>208033</td>\n",
       "      <td>64117</td>\n",
       "      <td>2001</td>\n",
       "      <td>4</td>\n",
       "      <td>K6</td>\n",
       "      <td>11693337</td>\n",
       "      <td>2016-12-21 00:00:00</td>\n",
       "    </tr>\n",
       "    <tr>\n",
       "      <th>84547</th>\n",
       "      <td>8413</td>\n",
       "      <td>5</td>\n",
       "      <td>WOODROW</td>\n",
       "      <td>35 INDOOR PUBLIC AND CULTURAL FACILITIES</td>\n",
       "      <td>4</td>\n",
       "      <td>7105</td>\n",
       "      <td>679</td>\n",
       "      <td></td>\n",
       "      <td>P9</td>\n",
       "      <td>155 CLAY PIT ROAD</td>\n",
       "      <td>...</td>\n",
       "      <td>0</td>\n",
       "      <td>1</td>\n",
       "      <td>1</td>\n",
       "      <td>10796</td>\n",
       "      <td>2400</td>\n",
       "      <td>2006</td>\n",
       "      <td>4</td>\n",
       "      <td>P9</td>\n",
       "      <td>69300</td>\n",
       "      <td>2016-10-27 00:00:00</td>\n",
       "    </tr>\n",
       "  </tbody>\n",
       "</table>\n",
       "<p>5 rows × 22 columns</p>\n",
       "</div>"
      ],
      "text/plain": [
       "       Unnamed: 0  BOROUGH NEIGHBORHOOD  \\\n",
       "84543        8409        5      WOODROW   \n",
       "84544        8410        5      WOODROW   \n",
       "84545        8411        5      WOODROW   \n",
       "84546        8412        5      WOODROW   \n",
       "84547        8413        5      WOODROW   \n",
       "\n",
       "                           BUILDING CLASS CATEGORY TAX CLASS AT PRESENT  \\\n",
       "84543  02 TWO FAMILY DWELLINGS                                        1   \n",
       "84544  02 TWO FAMILY DWELLINGS                                        1   \n",
       "84545  02 TWO FAMILY DWELLINGS                                        1   \n",
       "84546  22 STORE BUILDINGS                                             4   \n",
       "84547  35 INDOOR PUBLIC AND CULTURAL FACILITIES                       4   \n",
       "\n",
       "       BLOCK  LOT EASE-MENT BUILDING CLASS AT PRESENT                ADDRESS  \\\n",
       "84543   7349   34                                  B9          37 QUAIL LANE   \n",
       "84544   7349   78                                  B9       32 PHEASANT LANE   \n",
       "84545   7351   60                                  B2       49 PITNEY AVENUE   \n",
       "84546   7100   28                                  K6  2730 ARTHUR KILL ROAD   \n",
       "84547   7105  679                                  P9      155 CLAY PIT ROAD   \n",
       "\n",
       "       ... RESIDENTIAL UNITS  COMMERCIAL UNITS  TOTAL UNITS  LAND SQUARE FEET  \\\n",
       "84543  ...                 2                 0            2              2400   \n",
       "84544  ...                 2                 0            2              2498   \n",
       "84545  ...                 2                 0            2              4000   \n",
       "84546  ...                 0                 7            7            208033   \n",
       "84547  ...                 0                 1            1             10796   \n",
       "\n",
       "       GROSS SQUARE FEET YEAR BUILT TAX CLASS AT TIME OF SALE  \\\n",
       "84543               2575       1998                         1   \n",
       "84544               2377       1998                         1   \n",
       "84545               1496       1925                         1   \n",
       "84546              64117       2001                         4   \n",
       "84547               2400       2006                         4   \n",
       "\n",
       "       BUILDING CLASS AT TIME OF SALE  SALE PRICE            SALE DATE  \n",
       "84543                              B9      450000  2016-11-28 00:00:00  \n",
       "84544                              B9      550000  2017-04-21 00:00:00  \n",
       "84545                              B2      460000  2017-07-05 00:00:00  \n",
       "84546                              K6    11693337  2016-12-21 00:00:00  \n",
       "84547                              P9       69300  2016-10-27 00:00:00  \n",
       "\n",
       "[5 rows x 22 columns]"
      ]
     },
     "execution_count": 4,
     "metadata": {},
     "output_type": "execute_result"
    }
   ],
   "source": [
    "# Write your syntax here\n",
    "df.tail(5)"
   ]
  },
  {
   "cell_type": "markdown",
   "metadata": {},
   "source": [
    "BOROUGH: A digit code for the borough the property is located in; in order these are Manhattan (1), Bronx (2), Brooklyn (3), Queens (4), and Staten Island (5)."
   ]
  },
  {
   "cell_type": "markdown",
   "metadata": {},
   "source": [
    "To view the dimensions of the dataframe, we use the `.shape` parameter. Expected result: (84548, 22)"
   ]
  },
  {
   "cell_type": "code",
   "execution_count": 5,
   "metadata": {},
   "outputs": [
    {
     "data": {
      "text/plain": [
       "(84548, 22)"
      ]
     },
     "execution_count": 5,
     "metadata": {},
     "output_type": "execute_result"
    }
   ],
   "source": [
    "# Write your syntax here\n",
    "df.shape"
   ]
  },
  {
   "cell_type": "markdown",
   "metadata": {},
   "source": [
    "According to this official page, Ease-ment is \"is a right, such as a right of way, which allows an entity to make limited use of another’s real property. For example: MTA railroad tracks that run across a portion of another property\". Also, the Unnamed column is not mentioned and was likely used for iterating through records. So, those two columns are removed for now."
   ]
  },
  {
   "cell_type": "code",
   "execution_count": 6,
   "metadata": {},
   "outputs": [],
   "source": [
    "# Drop 'Unnamed: 0' and 'EASE-MENT' features using .drop function\n",
    "df.drop(['Unnamed: 0'], axis=1, inplace=True)"
   ]
  },
  {
   "cell_type": "markdown",
   "metadata": {},
   "source": [
    "Let's view Dtype of each features in dataframe using `.info()` function."
   ]
  },
  {
   "cell_type": "code",
   "execution_count": 7,
   "metadata": {},
   "outputs": [
    {
     "name": "stdout",
     "output_type": "stream",
     "text": [
      "<class 'pandas.core.frame.DataFrame'>\n",
      "RangeIndex: 84548 entries, 0 to 84547\n",
      "Data columns (total 21 columns):\n",
      " #   Column                          Non-Null Count  Dtype \n",
      "---  ------                          --------------  ----- \n",
      " 0   BOROUGH                         84548 non-null  int64 \n",
      " 1   NEIGHBORHOOD                    84548 non-null  object\n",
      " 2   BUILDING CLASS CATEGORY         84548 non-null  object\n",
      " 3   TAX CLASS AT PRESENT            84548 non-null  object\n",
      " 4   BLOCK                           84548 non-null  int64 \n",
      " 5   LOT                             84548 non-null  int64 \n",
      " 6   EASE-MENT                       84548 non-null  object\n",
      " 7   BUILDING CLASS AT PRESENT       84548 non-null  object\n",
      " 8   ADDRESS                         84548 non-null  object\n",
      " 9   APARTMENT NUMBER                84548 non-null  object\n",
      " 10  ZIP CODE                        84548 non-null  int64 \n",
      " 11  RESIDENTIAL UNITS               84548 non-null  int64 \n",
      " 12  COMMERCIAL UNITS                84548 non-null  int64 \n",
      " 13  TOTAL UNITS                     84548 non-null  int64 \n",
      " 14  LAND SQUARE FEET                84548 non-null  object\n",
      " 15  GROSS SQUARE FEET               84548 non-null  object\n",
      " 16  YEAR BUILT                      84548 non-null  int64 \n",
      " 17  TAX CLASS AT TIME OF SALE       84548 non-null  int64 \n",
      " 18  BUILDING CLASS AT TIME OF SALE  84548 non-null  object\n",
      " 19  SALE PRICE                      84548 non-null  object\n",
      " 20  SALE DATE                       84548 non-null  object\n",
      "dtypes: int64(9), object(12)\n",
      "memory usage: 13.5+ MB\n"
     ]
    }
   ],
   "source": [
    "df.info()"
   ]
  },
  {
   "cell_type": "markdown",
   "metadata": {},
   "source": [
    "It looks like empty records are not being treated as NA. We convert columns to their appropriate data types to obtain NAs."
   ]
  },
  {
   "cell_type": "code",
   "execution_count": 8,
   "metadata": {},
   "outputs": [
    {
     "name": "stdout",
     "output_type": "stream",
     "text": [
      "Column name\n",
      "NEIGHBORHOOD 254\n",
      "BUILDING CLASS CATEGORY 47\n",
      "TAX CLASS AT PRESENT 11\n",
      "EASE-MENT 1\n",
      "BUILDING CLASS AT PRESENT 167\n",
      "ADDRESS 67563\n",
      "APARTMENT NUMBER 3989\n",
      "LAND SQUARE FEET 6062\n",
      "GROSS SQUARE FEET 5691\n",
      "BUILDING CLASS AT TIME OF SALE 166\n",
      "SALE PRICE 10008\n",
      "SALE DATE 364\n"
     ]
    }
   ],
   "source": [
    "#First, let's check which columns should be categorical\n",
    "print('Column name')\n",
    "for col in df.columns:\n",
    "    if df[col].dtype=='object':\n",
    "        print(col, df[col].nunique())"
   ]
  },
  {
   "cell_type": "code",
   "execution_count": 9,
   "metadata": {},
   "outputs": [],
   "source": [
    "# LAND SQUARE FEET,GROSS SQUARE FEET, SALE PRICE, BOROUGH should be numeric. \n",
    "# SALE DATE datetime format.\n",
    "# categorical: NEIGHBORHOOD, BUILDING CLASS CATEGORY, TAX CLASS AT PRESENT, BUILDING CLASS AT PRESENT,\n",
    "# BUILDING CLASS AT TIME OF SALE, TAX CLASS AT TIME OF SALE,BOROUGH \n",
    "\n",
    "numer = ['LAND SQUARE FEET','GROSS SQUARE FEET', 'SALE PRICE', 'BOROUGH']\n",
    "for col in numer: # coerce for missing values\n",
    "    df[col] = pd.to_numeric(df[col], errors='coerce')\n",
    "\n",
    "categ = ['NEIGHBORHOOD', 'BUILDING CLASS CATEGORY', 'TAX CLASS AT PRESENT', 'BUILDING CLASS AT PRESENT', 'BUILDING CLASS AT TIME OF SALE', 'TAX CLASS AT TIME OF SALE']\n",
    "for col in categ:\n",
    "    df[col] = df[col].astype('category')\n",
    "\n",
    "df['SALE DATE'] = pd.to_datetime(df['SALE DATE'], errors='coerce')"
   ]
  },
  {
   "cell_type": "markdown",
   "metadata": {},
   "source": [
    "Our dataset is ready for checking missing values."
   ]
  },
  {
   "cell_type": "code",
   "execution_count": 10,
   "metadata": {},
   "outputs": [
    {
     "name": "stdout",
     "output_type": "stream",
     "text": [
      "                  LAND SQUARE FEET  GROSS SQUARE FEET   SALE PRICE\n",
      "percent missing          31.049818          32.658372     17.22217\n",
      "how many missing      26252.000000       27612.000000  14561.00000\n"
     ]
    }
   ],
   "source": [
    "missing = df.isnull().sum()/len(df)*100\n",
    "\n",
    "print(pd.DataFrame([missing[missing>0],pd.Series(df.isnull().sum()[df.isnull().sum()>1000])], index=['percent missing','how many missing']))"
   ]
  },
  {
   "cell_type": "markdown",
   "metadata": {},
   "source": [
    "Around 30% of GROSS SF and LAND SF are missing. Furthermore, around 17% of SALE PRICE is also missing."
   ]
  },
  {
   "cell_type": "markdown",
   "metadata": {},
   "source": [
    "We can fill in the missing value from one column to another, which will help us reduce missing values. Expected values:\n",
    "\n",
    "(6, 20)\n",
    "\n",
    "(1366, 20)"
   ]
  },
  {
   "cell_type": "code",
   "execution_count": 11,
   "metadata": {},
   "outputs": [
    {
     "name": "stdout",
     "output_type": "stream",
     "text": [
      "(6, 21)\n",
      "(1366, 21)\n"
     ]
    }
   ],
   "source": [
    "print(df[(df['LAND SQUARE FEET'].isnull()) & (df['GROSS SQUARE FEET'].notnull())].shape)\n",
    "print(df[(df['LAND SQUARE FEET'].notnull()) & (df['GROSS SQUARE FEET'].isnull())].shape)"
   ]
  },
  {
   "cell_type": "markdown",
   "metadata": {},
   "source": [
    "There are 1372 rows that can be filled in with their approximate values."
   ]
  },
  {
   "cell_type": "code",
   "execution_count": 12,
   "metadata": {},
   "outputs": [],
   "source": [
    "df['LAND SQUARE FEET'] = df['LAND SQUARE FEET'].mask((df['LAND SQUARE FEET'].isnull()) & (df['GROSS SQUARE FEET'].notnull()), df['GROSS SQUARE FEET'])\n",
    "df['GROSS SQUARE FEET'] = df['GROSS SQUARE FEET'].mask((df['LAND SQUARE FEET'].notnull()) & (df['GROSS SQUARE FEET'].isnull()), df['LAND SQUARE FEET'])"
   ]
  },
  {
   "cell_type": "code",
   "execution_count": 13,
   "metadata": {},
   "outputs": [
    {
     "name": "stdout",
     "output_type": "stream",
     "text": [
      "765\n"
     ]
    },
    {
     "data": {
      "text/html": [
       "<div>\n",
       "<style scoped>\n",
       "    .dataframe tbody tr th:only-of-type {\n",
       "        vertical-align: middle;\n",
       "    }\n",
       "\n",
       "    .dataframe tbody tr th {\n",
       "        vertical-align: top;\n",
       "    }\n",
       "\n",
       "    .dataframe thead th {\n",
       "        text-align: right;\n",
       "    }\n",
       "</style>\n",
       "<table border=\"1\" class=\"dataframe\">\n",
       "  <thead>\n",
       "    <tr style=\"text-align: right;\">\n",
       "      <th></th>\n",
       "      <th>BOROUGH</th>\n",
       "      <th>NEIGHBORHOOD</th>\n",
       "      <th>BUILDING CLASS CATEGORY</th>\n",
       "      <th>TAX CLASS AT PRESENT</th>\n",
       "      <th>BLOCK</th>\n",
       "      <th>LOT</th>\n",
       "      <th>EASE-MENT</th>\n",
       "      <th>BUILDING CLASS AT PRESENT</th>\n",
       "      <th>ADDRESS</th>\n",
       "      <th>APARTMENT NUMBER</th>\n",
       "      <th>...</th>\n",
       "      <th>RESIDENTIAL UNITS</th>\n",
       "      <th>COMMERCIAL UNITS</th>\n",
       "      <th>TOTAL UNITS</th>\n",
       "      <th>LAND SQUARE FEET</th>\n",
       "      <th>GROSS SQUARE FEET</th>\n",
       "      <th>YEAR BUILT</th>\n",
       "      <th>TAX CLASS AT TIME OF SALE</th>\n",
       "      <th>BUILDING CLASS AT TIME OF SALE</th>\n",
       "      <th>SALE PRICE</th>\n",
       "      <th>SALE DATE</th>\n",
       "    </tr>\n",
       "  </thead>\n",
       "  <tbody>\n",
       "    <tr>\n",
       "      <th>76286</th>\n",
       "      <td>5</td>\n",
       "      <td>ANNADALE</td>\n",
       "      <td>02 TWO FAMILY DWELLINGS</td>\n",
       "      <td>1</td>\n",
       "      <td>6350</td>\n",
       "      <td>7</td>\n",
       "      <td></td>\n",
       "      <td>B2</td>\n",
       "      <td>106 BENNETT PLACE</td>\n",
       "      <td></td>\n",
       "      <td>...</td>\n",
       "      <td>2</td>\n",
       "      <td>0</td>\n",
       "      <td>2</td>\n",
       "      <td>8000.0</td>\n",
       "      <td>4208.0</td>\n",
       "      <td>1985</td>\n",
       "      <td>1</td>\n",
       "      <td>B2</td>\n",
       "      <td>NaN</td>\n",
       "      <td>2017-06-27</td>\n",
       "    </tr>\n",
       "    <tr>\n",
       "      <th>76287</th>\n",
       "      <td>5</td>\n",
       "      <td>ANNADALE</td>\n",
       "      <td>02 TWO FAMILY DWELLINGS</td>\n",
       "      <td>1</td>\n",
       "      <td>6350</td>\n",
       "      <td>7</td>\n",
       "      <td></td>\n",
       "      <td>B2</td>\n",
       "      <td>106 BENNETT PLACE</td>\n",
       "      <td></td>\n",
       "      <td>...</td>\n",
       "      <td>2</td>\n",
       "      <td>0</td>\n",
       "      <td>2</td>\n",
       "      <td>8000.0</td>\n",
       "      <td>4208.0</td>\n",
       "      <td>1985</td>\n",
       "      <td>1</td>\n",
       "      <td>B2</td>\n",
       "      <td>NaN</td>\n",
       "      <td>2017-06-27</td>\n",
       "    </tr>\n",
       "    <tr>\n",
       "      <th>76322</th>\n",
       "      <td>5</td>\n",
       "      <td>ANNADALE</td>\n",
       "      <td>05 TAX CLASS 1 VACANT LAND</td>\n",
       "      <td>1B</td>\n",
       "      <td>6459</td>\n",
       "      <td>28</td>\n",
       "      <td></td>\n",
       "      <td>V0</td>\n",
       "      <td>N/A HYLAN BOULEVARD</td>\n",
       "      <td></td>\n",
       "      <td>...</td>\n",
       "      <td>0</td>\n",
       "      <td>0</td>\n",
       "      <td>0</td>\n",
       "      <td>6667.0</td>\n",
       "      <td>6667.0</td>\n",
       "      <td>0</td>\n",
       "      <td>1</td>\n",
       "      <td>V0</td>\n",
       "      <td>NaN</td>\n",
       "      <td>2017-05-11</td>\n",
       "    </tr>\n",
       "    <tr>\n",
       "      <th>76323</th>\n",
       "      <td>5</td>\n",
       "      <td>ANNADALE</td>\n",
       "      <td>05 TAX CLASS 1 VACANT LAND</td>\n",
       "      <td>1B</td>\n",
       "      <td>6459</td>\n",
       "      <td>28</td>\n",
       "      <td></td>\n",
       "      <td>V0</td>\n",
       "      <td>N/A HYLAN BOULEVARD</td>\n",
       "      <td></td>\n",
       "      <td>...</td>\n",
       "      <td>0</td>\n",
       "      <td>0</td>\n",
       "      <td>0</td>\n",
       "      <td>6667.0</td>\n",
       "      <td>6667.0</td>\n",
       "      <td>0</td>\n",
       "      <td>1</td>\n",
       "      <td>V0</td>\n",
       "      <td>NaN</td>\n",
       "      <td>2017-05-11</td>\n",
       "    </tr>\n",
       "    <tr>\n",
       "      <th>76383</th>\n",
       "      <td>5</td>\n",
       "      <td>ARDEN HEIGHTS</td>\n",
       "      <td>01 ONE FAMILY DWELLINGS</td>\n",
       "      <td>1</td>\n",
       "      <td>5741</td>\n",
       "      <td>93</td>\n",
       "      <td></td>\n",
       "      <td>A5</td>\n",
       "      <td>266 ILYSSA WAY</td>\n",
       "      <td></td>\n",
       "      <td>...</td>\n",
       "      <td>1</td>\n",
       "      <td>0</td>\n",
       "      <td>1</td>\n",
       "      <td>500.0</td>\n",
       "      <td>1354.0</td>\n",
       "      <td>1996</td>\n",
       "      <td>1</td>\n",
       "      <td>A5</td>\n",
       "      <td>320000.0</td>\n",
       "      <td>2017-06-06</td>\n",
       "    </tr>\n",
       "    <tr>\n",
       "      <th>76384</th>\n",
       "      <td>5</td>\n",
       "      <td>ARDEN HEIGHTS</td>\n",
       "      <td>01 ONE FAMILY DWELLINGS</td>\n",
       "      <td>1</td>\n",
       "      <td>5741</td>\n",
       "      <td>93</td>\n",
       "      <td></td>\n",
       "      <td>A5</td>\n",
       "      <td>266 ILYSSA WAY</td>\n",
       "      <td></td>\n",
       "      <td>...</td>\n",
       "      <td>1</td>\n",
       "      <td>0</td>\n",
       "      <td>1</td>\n",
       "      <td>500.0</td>\n",
       "      <td>1354.0</td>\n",
       "      <td>1996</td>\n",
       "      <td>1</td>\n",
       "      <td>A5</td>\n",
       "      <td>320000.0</td>\n",
       "      <td>2017-06-06</td>\n",
       "    </tr>\n",
       "    <tr>\n",
       "      <th>76643</th>\n",
       "      <td>5</td>\n",
       "      <td>ARROCHAR</td>\n",
       "      <td>02 TWO FAMILY DWELLINGS</td>\n",
       "      <td>1</td>\n",
       "      <td>3103</td>\n",
       "      <td>57</td>\n",
       "      <td></td>\n",
       "      <td>B2</td>\n",
       "      <td>129 MC CLEAN AVENUE</td>\n",
       "      <td></td>\n",
       "      <td>...</td>\n",
       "      <td>2</td>\n",
       "      <td>0</td>\n",
       "      <td>2</td>\n",
       "      <td>5000.0</td>\n",
       "      <td>2733.0</td>\n",
       "      <td>1925</td>\n",
       "      <td>1</td>\n",
       "      <td>B2</td>\n",
       "      <td>NaN</td>\n",
       "      <td>2017-03-21</td>\n",
       "    </tr>\n",
       "    <tr>\n",
       "      <th>76644</th>\n",
       "      <td>5</td>\n",
       "      <td>ARROCHAR</td>\n",
       "      <td>02 TWO FAMILY DWELLINGS</td>\n",
       "      <td>1</td>\n",
       "      <td>3103</td>\n",
       "      <td>57</td>\n",
       "      <td></td>\n",
       "      <td>B2</td>\n",
       "      <td>129 MC CLEAN AVENUE</td>\n",
       "      <td></td>\n",
       "      <td>...</td>\n",
       "      <td>2</td>\n",
       "      <td>0</td>\n",
       "      <td>2</td>\n",
       "      <td>5000.0</td>\n",
       "      <td>2733.0</td>\n",
       "      <td>1925</td>\n",
       "      <td>1</td>\n",
       "      <td>B2</td>\n",
       "      <td>NaN</td>\n",
       "      <td>2017-03-21</td>\n",
       "    </tr>\n",
       "    <tr>\n",
       "      <th>50126</th>\n",
       "      <td>4</td>\n",
       "      <td>ASTORIA</td>\n",
       "      <td>03 THREE FAMILY DWELLINGS</td>\n",
       "      <td>1</td>\n",
       "      <td>856</td>\n",
       "      <td>139</td>\n",
       "      <td></td>\n",
       "      <td>C0</td>\n",
       "      <td>22-18 27TH   STREET</td>\n",
       "      <td></td>\n",
       "      <td>...</td>\n",
       "      <td>3</td>\n",
       "      <td>0</td>\n",
       "      <td>3</td>\n",
       "      <td>2000.0</td>\n",
       "      <td>1400.0</td>\n",
       "      <td>1930</td>\n",
       "      <td>1</td>\n",
       "      <td>C0</td>\n",
       "      <td>NaN</td>\n",
       "      <td>2017-01-12</td>\n",
       "    </tr>\n",
       "    <tr>\n",
       "      <th>50127</th>\n",
       "      <td>4</td>\n",
       "      <td>ASTORIA</td>\n",
       "      <td>03 THREE FAMILY DWELLINGS</td>\n",
       "      <td>1</td>\n",
       "      <td>856</td>\n",
       "      <td>139</td>\n",
       "      <td></td>\n",
       "      <td>C0</td>\n",
       "      <td>22-18 27TH   STREET</td>\n",
       "      <td></td>\n",
       "      <td>...</td>\n",
       "      <td>3</td>\n",
       "      <td>0</td>\n",
       "      <td>3</td>\n",
       "      <td>2000.0</td>\n",
       "      <td>1400.0</td>\n",
       "      <td>1930</td>\n",
       "      <td>1</td>\n",
       "      <td>C0</td>\n",
       "      <td>NaN</td>\n",
       "      <td>2017-01-12</td>\n",
       "    </tr>\n",
       "  </tbody>\n",
       "</table>\n",
       "<p>10 rows × 21 columns</p>\n",
       "</div>"
      ],
      "text/plain": [
       "       BOROUGH   NEIGHBORHOOD                      BUILDING CLASS CATEGORY  \\\n",
       "76286        5       ANNADALE  02 TWO FAMILY DWELLINGS                       \n",
       "76287        5       ANNADALE  02 TWO FAMILY DWELLINGS                       \n",
       "76322        5       ANNADALE  05 TAX CLASS 1 VACANT LAND                    \n",
       "76323        5       ANNADALE  05 TAX CLASS 1 VACANT LAND                    \n",
       "76383        5  ARDEN HEIGHTS  01 ONE FAMILY DWELLINGS                       \n",
       "76384        5  ARDEN HEIGHTS  01 ONE FAMILY DWELLINGS                       \n",
       "76643        5       ARROCHAR  02 TWO FAMILY DWELLINGS                       \n",
       "76644        5       ARROCHAR  02 TWO FAMILY DWELLINGS                       \n",
       "50126        4        ASTORIA  03 THREE FAMILY DWELLINGS                     \n",
       "50127        4        ASTORIA  03 THREE FAMILY DWELLINGS                     \n",
       "\n",
       "      TAX CLASS AT PRESENT  BLOCK  LOT EASE-MENT BUILDING CLASS AT PRESENT  \\\n",
       "76286                    1   6350    7                                  B2   \n",
       "76287                    1   6350    7                                  B2   \n",
       "76322                   1B   6459   28                                  V0   \n",
       "76323                   1B   6459   28                                  V0   \n",
       "76383                    1   5741   93                                  A5   \n",
       "76384                    1   5741   93                                  A5   \n",
       "76643                    1   3103   57                                  B2   \n",
       "76644                    1   3103   57                                  B2   \n",
       "50126                    1    856  139                                  C0   \n",
       "50127                    1    856  139                                  C0   \n",
       "\n",
       "                   ADDRESS APARTMENT NUMBER  ...  RESIDENTIAL UNITS  \\\n",
       "76286    106 BENNETT PLACE                   ...                  2   \n",
       "76287    106 BENNETT PLACE                   ...                  2   \n",
       "76322  N/A HYLAN BOULEVARD                   ...                  0   \n",
       "76323  N/A HYLAN BOULEVARD                   ...                  0   \n",
       "76383       266 ILYSSA WAY                   ...                  1   \n",
       "76384       266 ILYSSA WAY                   ...                  1   \n",
       "76643  129 MC CLEAN AVENUE                   ...                  2   \n",
       "76644  129 MC CLEAN AVENUE                   ...                  2   \n",
       "50126  22-18 27TH   STREET                   ...                  3   \n",
       "50127  22-18 27TH   STREET                   ...                  3   \n",
       "\n",
       "       COMMERCIAL UNITS  TOTAL UNITS  LAND SQUARE FEET  GROSS SQUARE FEET  \\\n",
       "76286                 0            2            8000.0             4208.0   \n",
       "76287                 0            2            8000.0             4208.0   \n",
       "76322                 0            0            6667.0             6667.0   \n",
       "76323                 0            0            6667.0             6667.0   \n",
       "76383                 0            1             500.0             1354.0   \n",
       "76384                 0            1             500.0             1354.0   \n",
       "76643                 0            2            5000.0             2733.0   \n",
       "76644                 0            2            5000.0             2733.0   \n",
       "50126                 0            3            2000.0             1400.0   \n",
       "50127                 0            3            2000.0             1400.0   \n",
       "\n",
       "       YEAR BUILT  TAX CLASS AT TIME OF SALE BUILDING CLASS AT TIME OF SALE  \\\n",
       "76286        1985                          1                             B2   \n",
       "76287        1985                          1                             B2   \n",
       "76322           0                          1                             V0   \n",
       "76323           0                          1                             V0   \n",
       "76383        1996                          1                             A5   \n",
       "76384        1996                          1                             A5   \n",
       "76643        1925                          1                             B2   \n",
       "76644        1925                          1                             B2   \n",
       "50126        1930                          1                             C0   \n",
       "50127        1930                          1                             C0   \n",
       "\n",
       "      SALE PRICE  SALE DATE  \n",
       "76286        NaN 2017-06-27  \n",
       "76287        NaN 2017-06-27  \n",
       "76322        NaN 2017-05-11  \n",
       "76323        NaN 2017-05-11  \n",
       "76383   320000.0 2017-06-06  \n",
       "76384   320000.0 2017-06-06  \n",
       "76643        NaN 2017-03-21  \n",
       "76644        NaN 2017-03-21  \n",
       "50126        NaN 2017-01-12  \n",
       "50127        NaN 2017-01-12  \n",
       "\n",
       "[10 rows x 21 columns]"
      ]
     },
     "execution_count": 13,
     "metadata": {},
     "output_type": "execute_result"
    }
   ],
   "source": [
    "#  Check for duplicates before\n",
    "\n",
    "print(sum(df.duplicated()))\n",
    "\n",
    "df[df.duplicated(keep=False)].sort_values(['NEIGHBORHOOD', 'ADDRESS']).head(10)\n",
    "\n",
    "# df.duplicated() automatically excludes duplicates, to keep duplicates in df we use keep=False\n",
    "\n",
    "# in df.duplicated(df.columns) we can specify column names to look for duplicates only in those mentioned columns."
   ]
  },
  {
   "cell_type": "markdown",
   "metadata": {},
   "source": [
    "The dataframe has 765 duplicated rows (exluding the original rows)."
   ]
  },
  {
   "cell_type": "code",
   "execution_count": 14,
   "metadata": {},
   "outputs": [
    {
     "name": "stdout",
     "output_type": "stream",
     "text": [
      "0\n"
     ]
    }
   ],
   "source": [
    "df.drop_duplicates(inplace=True)\n",
    "\n",
    "print(sum(df.duplicated()))"
   ]
  },
  {
   "cell_type": "markdown",
   "metadata": {},
   "source": [
    "## Exploratory data analysis"
   ]
  },
  {
   "cell_type": "markdown",
   "metadata": {},
   "source": [
    "Now, let's get a simple descriptive statistics with `.describe()` function for `COMMERCIAL UNITS` features."
   ]
  },
  {
   "cell_type": "code",
   "execution_count": 15,
   "metadata": {},
   "outputs": [
    {
     "data": {
      "text/html": [
       "<div>\n",
       "<style scoped>\n",
       "    .dataframe tbody tr th:only-of-type {\n",
       "        vertical-align: middle;\n",
       "    }\n",
       "\n",
       "    .dataframe tbody tr th {\n",
       "        vertical-align: top;\n",
       "    }\n",
       "\n",
       "    .dataframe thead th {\n",
       "        text-align: right;\n",
       "    }\n",
       "</style>\n",
       "<table border=\"1\" class=\"dataframe\">\n",
       "  <thead>\n",
       "    <tr style=\"text-align: right;\">\n",
       "      <th></th>\n",
       "      <th>BOROUGH</th>\n",
       "      <th>BLOCK</th>\n",
       "      <th>LOT</th>\n",
       "      <th>ZIP CODE</th>\n",
       "      <th>RESIDENTIAL UNITS</th>\n",
       "      <th>COMMERCIAL UNITS</th>\n",
       "      <th>TOTAL UNITS</th>\n",
       "      <th>LAND SQUARE FEET</th>\n",
       "      <th>GROSS SQUARE FEET</th>\n",
       "      <th>YEAR BUILT</th>\n",
       "      <th>SALE PRICE</th>\n",
       "    </tr>\n",
       "  </thead>\n",
       "  <tbody>\n",
       "    <tr>\n",
       "      <th>count</th>\n",
       "      <td>78777.000000</td>\n",
       "      <td>78777.000000</td>\n",
       "      <td>78777.000000</td>\n",
       "      <td>78777.000000</td>\n",
       "      <td>78777.000000</td>\n",
       "      <td>78777.0</td>\n",
       "      <td>78777.000000</td>\n",
       "      <td>5.278000e+04</td>\n",
       "      <td>5.278000e+04</td>\n",
       "      <td>78777.000000</td>\n",
       "      <td>6.562900e+04</td>\n",
       "    </tr>\n",
       "    <tr>\n",
       "      <th>mean</th>\n",
       "      <td>3.004329</td>\n",
       "      <td>4273.781015</td>\n",
       "      <td>395.422420</td>\n",
       "      <td>10722.737068</td>\n",
       "      <td>1.691737</td>\n",
       "      <td>0.0</td>\n",
       "      <td>1.724133</td>\n",
       "      <td>3.140140e+03</td>\n",
       "      <td>2.714612e+03</td>\n",
       "      <td>1781.065451</td>\n",
       "      <td>9.952969e+05</td>\n",
       "    </tr>\n",
       "    <tr>\n",
       "      <th>std</th>\n",
       "      <td>1.298594</td>\n",
       "      <td>3589.241940</td>\n",
       "      <td>671.604654</td>\n",
       "      <td>1318.493961</td>\n",
       "      <td>9.838994</td>\n",
       "      <td>0.0</td>\n",
       "      <td>9.835016</td>\n",
       "      <td>2.929999e+04</td>\n",
       "      <td>2.791294e+04</td>\n",
       "      <td>551.024570</td>\n",
       "      <td>3.329268e+06</td>\n",
       "    </tr>\n",
       "    <tr>\n",
       "      <th>min</th>\n",
       "      <td>1.000000</td>\n",
       "      <td>1.000000</td>\n",
       "      <td>1.000000</td>\n",
       "      <td>0.000000</td>\n",
       "      <td>0.000000</td>\n",
       "      <td>0.0</td>\n",
       "      <td>0.000000</td>\n",
       "      <td>0.000000e+00</td>\n",
       "      <td>0.000000e+00</td>\n",
       "      <td>0.000000</td>\n",
       "      <td>0.000000e+00</td>\n",
       "    </tr>\n",
       "    <tr>\n",
       "      <th>25%</th>\n",
       "      <td>2.000000</td>\n",
       "      <td>1330.000000</td>\n",
       "      <td>23.000000</td>\n",
       "      <td>10304.000000</td>\n",
       "      <td>0.000000</td>\n",
       "      <td>0.0</td>\n",
       "      <td>1.000000</td>\n",
       "      <td>1.600000e+03</td>\n",
       "      <td>9.750000e+02</td>\n",
       "      <td>1920.000000</td>\n",
       "      <td>2.400000e+05</td>\n",
       "    </tr>\n",
       "    <tr>\n",
       "      <th>50%</th>\n",
       "      <td>3.000000</td>\n",
       "      <td>3340.000000</td>\n",
       "      <td>52.000000</td>\n",
       "      <td>11209.000000</td>\n",
       "      <td>1.000000</td>\n",
       "      <td>0.0</td>\n",
       "      <td>1.000000</td>\n",
       "      <td>2.295000e+03</td>\n",
       "      <td>1.600000e+03</td>\n",
       "      <td>1940.000000</td>\n",
       "      <td>5.294900e+05</td>\n",
       "    </tr>\n",
       "    <tr>\n",
       "      <th>75%</th>\n",
       "      <td>4.000000</td>\n",
       "      <td>6361.000000</td>\n",
       "      <td>1003.000000</td>\n",
       "      <td>11357.000000</td>\n",
       "      <td>2.000000</td>\n",
       "      <td>0.0</td>\n",
       "      <td>2.000000</td>\n",
       "      <td>3.300000e+03</td>\n",
       "      <td>2.388000e+03</td>\n",
       "      <td>1967.000000</td>\n",
       "      <td>9.219560e+05</td>\n",
       "    </tr>\n",
       "    <tr>\n",
       "      <th>max</th>\n",
       "      <td>5.000000</td>\n",
       "      <td>16322.000000</td>\n",
       "      <td>9106.000000</td>\n",
       "      <td>11694.000000</td>\n",
       "      <td>889.000000</td>\n",
       "      <td>0.0</td>\n",
       "      <td>889.000000</td>\n",
       "      <td>4.252327e+06</td>\n",
       "      <td>4.252327e+06</td>\n",
       "      <td>2017.000000</td>\n",
       "      <td>3.450000e+08</td>\n",
       "    </tr>\n",
       "  </tbody>\n",
       "</table>\n",
       "</div>"
      ],
      "text/plain": [
       "            BOROUGH         BLOCK           LOT      ZIP CODE  \\\n",
       "count  78777.000000  78777.000000  78777.000000  78777.000000   \n",
       "mean       3.004329   4273.781015    395.422420  10722.737068   \n",
       "std        1.298594   3589.241940    671.604654   1318.493961   \n",
       "min        1.000000      1.000000      1.000000      0.000000   \n",
       "25%        2.000000   1330.000000     23.000000  10304.000000   \n",
       "50%        3.000000   3340.000000     52.000000  11209.000000   \n",
       "75%        4.000000   6361.000000   1003.000000  11357.000000   \n",
       "max        5.000000  16322.000000   9106.000000  11694.000000   \n",
       "\n",
       "       RESIDENTIAL UNITS  COMMERCIAL UNITS   TOTAL UNITS  LAND SQUARE FEET  \\\n",
       "count       78777.000000           78777.0  78777.000000      5.278000e+04   \n",
       "mean            1.691737               0.0      1.724133      3.140140e+03   \n",
       "std             9.838994               0.0      9.835016      2.929999e+04   \n",
       "min             0.000000               0.0      0.000000      0.000000e+00   \n",
       "25%             0.000000               0.0      1.000000      1.600000e+03   \n",
       "50%             1.000000               0.0      1.000000      2.295000e+03   \n",
       "75%             2.000000               0.0      2.000000      3.300000e+03   \n",
       "max           889.000000               0.0    889.000000      4.252327e+06   \n",
       "\n",
       "       GROSS SQUARE FEET    YEAR BUILT    SALE PRICE  \n",
       "count       5.278000e+04  78777.000000  6.562900e+04  \n",
       "mean        2.714612e+03   1781.065451  9.952969e+05  \n",
       "std         2.791294e+04    551.024570  3.329268e+06  \n",
       "min         0.000000e+00      0.000000  0.000000e+00  \n",
       "25%         9.750000e+02   1920.000000  2.400000e+05  \n",
       "50%         1.600000e+03   1940.000000  5.294900e+05  \n",
       "75%         2.388000e+03   1967.000000  9.219560e+05  \n",
       "max         4.252327e+06   2017.000000  3.450000e+08  "
      ]
     },
     "execution_count": 15,
     "metadata": {},
     "output_type": "execute_result"
    }
   ],
   "source": [
    "df[df['COMMERCIAL UNITS']==0].describe()"
   ]
  },
  {
   "cell_type": "markdown",
   "metadata": {},
   "source": [
    "Let us try to understand the columns. Above table shows descriptive statistics for the numeric columns.\n",
    "\n",
    "- There are zipcodes with 0 value\n",
    "- Can block/lot numbers go up to 16322?\n",
    "- Most of the properties have 2 unit and maximum of 1844 units? The latter might mean some company purchased a building. This should be treated as an outlier.\n",
    "- Other columns also have outliers which needs further investigation.\n",
    "- Year column has a year with 0\n",
    "- Most sales prices less than 10000 can be treated as gift or transfer fees."
   ]
  },
  {
   "cell_type": "markdown",
   "metadata": {},
   "source": [
    "Now, let's get a simple descriptive statistics with `.describe()` function for `RESIDENTIAL UNITS` features.\n",
    "\n",
    "Function below are graded function. (1 Points)"
   ]
  },
  {
   "cell_type": "code",
   "execution_count": 27,
   "metadata": {},
   "outputs": [
    {
     "data": {
      "text/html": [
       "<div>\n",
       "<style scoped>\n",
       "    .dataframe tbody tr th:only-of-type {\n",
       "        vertical-align: middle;\n",
       "    }\n",
       "\n",
       "    .dataframe tbody tr th {\n",
       "        vertical-align: top;\n",
       "    }\n",
       "\n",
       "    .dataframe thead th {\n",
       "        text-align: right;\n",
       "    }\n",
       "</style>\n",
       "<table border=\"1\" class=\"dataframe\">\n",
       "  <thead>\n",
       "    <tr style=\"text-align: right;\">\n",
       "      <th></th>\n",
       "      <th>BOROUGH</th>\n",
       "      <th>BLOCK</th>\n",
       "      <th>LOT</th>\n",
       "      <th>ZIP CODE</th>\n",
       "      <th>RESIDENTIAL UNITS</th>\n",
       "      <th>COMMERCIAL UNITS</th>\n",
       "      <th>TOTAL UNITS</th>\n",
       "      <th>LAND SQUARE FEET</th>\n",
       "      <th>GROSS SQUARE FEET</th>\n",
       "      <th>YEAR BUILT</th>\n",
       "      <th>SALE PRICE</th>\n",
       "    </tr>\n",
       "  </thead>\n",
       "  <tbody>\n",
       "    <tr>\n",
       "      <th>count</th>\n",
       "      <td>24546.000000</td>\n",
       "      <td>24546.000000</td>\n",
       "      <td>24546.000000</td>\n",
       "      <td>24546.000000</td>\n",
       "      <td>24546.0</td>\n",
       "      <td>24546.000000</td>\n",
       "      <td>24546.000000</td>\n",
       "      <td>9.503000e+03</td>\n",
       "      <td>9.503000e+03</td>\n",
       "      <td>24546.000000</td>\n",
       "      <td>2.085500e+04</td>\n",
       "    </tr>\n",
       "    <tr>\n",
       "      <th>mean</th>\n",
       "      <td>2.542084</td>\n",
       "      <td>3355.267172</td>\n",
       "      <td>283.943412</td>\n",
       "      <td>10321.514626</td>\n",
       "      <td>0.0</td>\n",
       "      <td>0.459382</td>\n",
       "      <td>0.563350</td>\n",
       "      <td>7.416797e+03</td>\n",
       "      <td>8.870466e+03</td>\n",
       "      <td>1675.525788</td>\n",
       "      <td>1.632257e+06</td>\n",
       "    </tr>\n",
       "    <tr>\n",
       "      <th>std</th>\n",
       "      <td>1.334486</td>\n",
       "      <td>3091.222257</td>\n",
       "      <td>570.045258</td>\n",
       "      <td>2135.406385</td>\n",
       "      <td>0.0</td>\n",
       "      <td>15.826020</td>\n",
       "      <td>15.825945</td>\n",
       "      <td>8.032892e+04</td>\n",
       "      <td>7.890877e+04</td>\n",
       "      <td>679.095000</td>\n",
       "      <td>1.969307e+07</td>\n",
       "    </tr>\n",
       "    <tr>\n",
       "      <th>min</th>\n",
       "      <td>1.000000</td>\n",
       "      <td>1.000000</td>\n",
       "      <td>1.000000</td>\n",
       "      <td>0.000000</td>\n",
       "      <td>0.0</td>\n",
       "      <td>0.000000</td>\n",
       "      <td>0.000000</td>\n",
       "      <td>0.000000e+00</td>\n",
       "      <td>0.000000e+00</td>\n",
       "      <td>0.000000</td>\n",
       "      <td>0.000000e+00</td>\n",
       "    </tr>\n",
       "    <tr>\n",
       "      <th>25%</th>\n",
       "      <td>1.000000</td>\n",
       "      <td>1158.000000</td>\n",
       "      <td>12.000000</td>\n",
       "      <td>10023.000000</td>\n",
       "      <td>0.0</td>\n",
       "      <td>0.000000</td>\n",
       "      <td>0.000000</td>\n",
       "      <td>0.000000e+00</td>\n",
       "      <td>0.000000e+00</td>\n",
       "      <td>1921.000000</td>\n",
       "      <td>1.825000e+05</td>\n",
       "    </tr>\n",
       "    <tr>\n",
       "      <th>50%</th>\n",
       "      <td>3.000000</td>\n",
       "      <td>1947.000000</td>\n",
       "      <td>38.000000</td>\n",
       "      <td>11004.000000</td>\n",
       "      <td>0.0</td>\n",
       "      <td>0.000000</td>\n",
       "      <td>0.000000</td>\n",
       "      <td>0.000000e+00</td>\n",
       "      <td>0.000000e+00</td>\n",
       "      <td>1950.000000</td>\n",
       "      <td>3.950000e+05</td>\n",
       "    </tr>\n",
       "    <tr>\n",
       "      <th>75%</th>\n",
       "      <td>4.000000</td>\n",
       "      <td>5390.750000</td>\n",
       "      <td>135.000000</td>\n",
       "      <td>11354.000000</td>\n",
       "      <td>0.0</td>\n",
       "      <td>0.000000</td>\n",
       "      <td>0.000000</td>\n",
       "      <td>3.250000e+03</td>\n",
       "      <td>2.500000e+03</td>\n",
       "      <td>1962.000000</td>\n",
       "      <td>8.500000e+05</td>\n",
       "    </tr>\n",
       "    <tr>\n",
       "      <th>max</th>\n",
       "      <td>5.000000</td>\n",
       "      <td>16317.000000</td>\n",
       "      <td>9056.000000</td>\n",
       "      <td>11694.000000</td>\n",
       "      <td>0.0</td>\n",
       "      <td>2261.000000</td>\n",
       "      <td>2261.000000</td>\n",
       "      <td>4.252327e+06</td>\n",
       "      <td>4.252327e+06</td>\n",
       "      <td>2017.000000</td>\n",
       "      <td>2.210000e+09</td>\n",
       "    </tr>\n",
       "  </tbody>\n",
       "</table>\n",
       "</div>"
      ],
      "text/plain": [
       "            BOROUGH         BLOCK           LOT      ZIP CODE  \\\n",
       "count  24546.000000  24546.000000  24546.000000  24546.000000   \n",
       "mean       2.542084   3355.267172    283.943412  10321.514626   \n",
       "std        1.334486   3091.222257    570.045258   2135.406385   \n",
       "min        1.000000      1.000000      1.000000      0.000000   \n",
       "25%        1.000000   1158.000000     12.000000  10023.000000   \n",
       "50%        3.000000   1947.000000     38.000000  11004.000000   \n",
       "75%        4.000000   5390.750000    135.000000  11354.000000   \n",
       "max        5.000000  16317.000000   9056.000000  11694.000000   \n",
       "\n",
       "       RESIDENTIAL UNITS  COMMERCIAL UNITS   TOTAL UNITS  LAND SQUARE FEET  \\\n",
       "count            24546.0      24546.000000  24546.000000      9.503000e+03   \n",
       "mean                 0.0          0.459382      0.563350      7.416797e+03   \n",
       "std                  0.0         15.826020     15.825945      8.032892e+04   \n",
       "min                  0.0          0.000000      0.000000      0.000000e+00   \n",
       "25%                  0.0          0.000000      0.000000      0.000000e+00   \n",
       "50%                  0.0          0.000000      0.000000      0.000000e+00   \n",
       "75%                  0.0          0.000000      0.000000      3.250000e+03   \n",
       "max                  0.0       2261.000000   2261.000000      4.252327e+06   \n",
       "\n",
       "       GROSS SQUARE FEET    YEAR BUILT    SALE PRICE  \n",
       "count       9.503000e+03  24546.000000  2.085500e+04  \n",
       "mean        8.870466e+03   1675.525788  1.632257e+06  \n",
       "std         7.890877e+04    679.095000  1.969307e+07  \n",
       "min         0.000000e+00      0.000000  0.000000e+00  \n",
       "25%         0.000000e+00   1921.000000  1.825000e+05  \n",
       "50%         0.000000e+00   1950.000000  3.950000e+05  \n",
       "75%         2.500000e+03   1962.000000  8.500000e+05  \n",
       "max         4.252327e+06   2017.000000  2.210000e+09  "
      ]
     },
     "execution_count": 27,
     "metadata": {},
     "output_type": "execute_result"
    }
   ],
   "source": [
    "# Write your function below\n",
    "df[df['RESIDENTIAL UNITS']==0].describe()"
   ]
  },
  {
   "cell_type": "markdown",
   "metadata": {},
   "source": [
    "Write your findings below:"
   ]
  },
  {
   "cell_type": "markdown",
   "metadata": {},
   "source": []
  },
  {
   "cell_type": "markdown",
   "metadata": {},
   "source": [
    "Use `.value_counts` function to count total value of `BOROUGH` features. Expected value:\n",
    "\n",
    "4    26548\\\n",
    "3    23843\\\n",
    "1    18102\\\n",
    "5     8296\\\n",
    "2     6994\\\n",
    "Name: BOROUGH, dtype: int64"
   ]
  },
  {
   "cell_type": "code",
   "execution_count": 28,
   "metadata": {},
   "outputs": [
    {
     "data": {
      "text/plain": [
       "4    26548\n",
       "3    23843\n",
       "1    18102\n",
       "5     8296\n",
       "2     6994\n",
       "Name: BOROUGH, dtype: int64"
      ]
     },
     "execution_count": 28,
     "metadata": {},
     "output_type": "execute_result"
    }
   ],
   "source": [
    "# Write your syntax below\n",
    "\n",
    "df['BOROUGH'].value_counts()"
   ]
  },
  {
   "cell_type": "markdown",
   "metadata": {},
   "source": [
    "From here, we can calculate the mean for each Borough. Use `.mean()` function to calculate mean.\n",
    "\n",
    "Function below are graded function. (1 Points)"
   ]
  },
  {
   "cell_type": "code",
   "execution_count": 29,
   "metadata": {},
   "outputs": [
    {
     "data": {
      "text/plain": [
       "2.999307735459461"
      ]
     },
     "execution_count": 29,
     "metadata": {},
     "output_type": "execute_result"
    }
   ],
   "source": [
    "# Write your function below\n",
    "df['BOROUGH'].mean()"
   ]
  },
  {
   "cell_type": "markdown",
   "metadata": {},
   "source": [
    "From here, we can calculate the median for each Borough. Use `.median()` function to calculate median.\n",
    "\n",
    "Function below are graded function. (1 Points)"
   ]
  },
  {
   "cell_type": "code",
   "execution_count": 30,
   "metadata": {},
   "outputs": [
    {
     "data": {
      "text/plain": [
       "3.0"
      ]
     },
     "execution_count": 30,
     "metadata": {},
     "output_type": "execute_result"
    }
   ],
   "source": [
    "# Write your function below\n",
    "df['BOROUGH'].median()"
   ]
  },
  {
   "cell_type": "markdown",
   "metadata": {},
   "source": [
    "From here, we can calculate the mode for each Borough.\n",
    "\n",
    "Function below are graded function. (1 Points)"
   ]
  },
  {
   "cell_type": "code",
   "execution_count": 31,
   "metadata": {},
   "outputs": [
    {
     "data": {
      "text/plain": [
       "0    4\n",
       "dtype: int64"
      ]
     },
     "execution_count": 31,
     "metadata": {},
     "output_type": "execute_result"
    }
   ],
   "source": [
    "# Write your function below\n",
    "df['BOROUGH'].mode()"
   ]
  },
  {
   "cell_type": "markdown",
   "metadata": {},
   "source": [
    "From here, we can calculate the Range for each Borough.\n",
    "\n",
    "Function below are graded function. (1 Points)"
   ]
  },
  {
   "cell_type": "code",
   "execution_count": 32,
   "metadata": {},
   "outputs": [
    {
     "data": {
      "text/plain": [
       "4"
      ]
     },
     "execution_count": 32,
     "metadata": {},
     "output_type": "execute_result"
    }
   ],
   "source": [
    "# Write your function below\n",
    "np.ptp(df['BOROUGH'])"
   ]
  },
  {
   "cell_type": "markdown",
   "metadata": {},
   "source": [
    "From here, we can calculate the Variance for each Borough.\n",
    "\n",
    "Function below are graded function. (1 Points)"
   ]
  },
  {
   "cell_type": "code",
   "execution_count": 33,
   "metadata": {},
   "outputs": [
    {
     "data": {
      "text/plain": [
       "1.660666489797683"
      ]
     },
     "execution_count": 33,
     "metadata": {},
     "output_type": "execute_result"
    }
   ],
   "source": [
    "# Write your function below\n",
    "np.var(df['BOROUGH'], ddof=1)\n",
    "# Graded-Funtion Begin (~1 Lines)\n",
    "\n",
    "# Graded-Funtion End"
   ]
  },
  {
   "cell_type": "markdown",
   "metadata": {},
   "source": [
    "From here, we can calculate the SD for each Borough.\n",
    "\n",
    "Function below are graded function. (1 Points)"
   ]
  },
  {
   "cell_type": "code",
   "execution_count": 34,
   "metadata": {},
   "outputs": [
    {
     "data": {
      "text/plain": [
       "1.2886684949193423"
      ]
     },
     "execution_count": 34,
     "metadata": {},
     "output_type": "execute_result"
    }
   ],
   "source": [
    "# Write your function below\n",
    "np.std(df['BOROUGH'], ddof=1)"
   ]
  },
  {
   "cell_type": "markdown",
   "metadata": {},
   "source": [
    "Now we can analyze Probability Distibution below.\n",
    "\n",
    "Function below are graded function. (1 Points)"
   ]
  },
  {
   "cell_type": "code",
   "execution_count": 35,
   "metadata": {},
   "outputs": [
    {
     "name": "stderr",
     "output_type": "stream",
     "text": [
      "C:\\Users\\ADMINISTRATOR-TI\\anaconda3\\lib\\site-packages\\seaborn\\distributions.py:2557: FutureWarning: `distplot` is a deprecated function and will be removed in a future version. Please adapt your code to use either `displot` (a figure-level function with similar flexibility) or `histplot` (an axes-level function for histograms).\n",
      "  warnings.warn(msg, FutureWarning)\n"
     ]
    },
    {
     "data": {
      "text/plain": [
       "[Text(0.5, 0, 'Normal Distribution'), Text(0, 0.5, 'Frequency')]"
      ]
     },
     "execution_count": 35,
     "metadata": {},
     "output_type": "execute_result"
    },
    {
     "data": {
      "image/png": "[encoded data removed]",
      "text/plain": [
       "<Figure size 288x360 with 1 Axes>"
      ]
     },
     "metadata": {},
     "output_type": "display_data"
    }
   ],
   "source": [
    "# Write your function below\n",
    "#def ecdf(df):\n",
    "    # Number of data points: n\n",
    "    #n = len(df[\"BOROUGH\"])\n",
    "\n",
    "    # x-data for the ECDF: x\n",
    "    #x = np.sort(df[\"BOROUGH\"])\n",
    "\n",
    "    # y-data for the ECDF: y\n",
    "    #y = np.arange(1, n+1) / n\n",
    "    \n",
    "    #return x, y\n",
    "# Graded-Funtion Begin\n",
    "#x, y = ecdf(df[\"BOROUGH\"])\n",
    "\n",
    "samples = np.random.normal(np.mean(df[\"BOROUGH\"]), np.std(df[\"BOROUGH\"]), size=10000)\n",
    "#x, y = ecdf(samples)\n",
    "\n",
    "ax = sns.distplot(samples,\n",
    "                 bins=100,\n",
    "                 kde=True,\n",
    "                 color='skyblue',\n",
    "                 hist_kws={\"linewidth\": 15, 'alpha':1})\n",
    "ax.set(xlabel='Normal Distribution', ylabel='Frequency')\n",
    "\n",
    "\n",
    "# Graded-Funtion End"
   ]
  },
  {
   "cell_type": "markdown",
   "metadata": {},
   "source": [
    "Now we can analyze Confidence Intervals below.\n",
    "\n",
    "Function below are graded function. (1 Points)"
   ]
  },
  {
   "cell_type": "code",
   "execution_count": 36,
   "metadata": {},
   "outputs": [
    {
     "data": {
      "text/html": [
       "<div>\n",
       "<style scoped>\n",
       "    .dataframe tbody tr th:only-of-type {\n",
       "        vertical-align: middle;\n",
       "    }\n",
       "\n",
       "    .dataframe tbody tr th {\n",
       "        vertical-align: top;\n",
       "    }\n",
       "\n",
       "    .dataframe thead tr th {\n",
       "        text-align: left;\n",
       "    }\n",
       "\n",
       "    .dataframe thead tr:last-of-type th {\n",
       "        text-align: right;\n",
       "    }\n",
       "</style>\n",
       "<table border=\"1\" class=\"dataframe\">\n",
       "  <thead>\n",
       "    <tr>\n",
       "      <th></th>\n",
       "      <th colspan=\"3\" halign=\"left\">TOTAL UNITS</th>\n",
       "    </tr>\n",
       "    <tr>\n",
       "      <th></th>\n",
       "      <th>mean</th>\n",
       "      <th>std</th>\n",
       "      <th>size</th>\n",
       "    </tr>\n",
       "    <tr>\n",
       "      <th>BOROUGH1</th>\n",
       "      <th></th>\n",
       "      <th></th>\n",
       "      <th></th>\n",
       "    </tr>\n",
       "  </thead>\n",
       "  <tbody>\n",
       "    <tr>\n",
       "      <th>Bronx</th>\n",
       "      <td>3.510152</td>\n",
       "      <td>22.681594</td>\n",
       "      <td>6994</td>\n",
       "    </tr>\n",
       "    <tr>\n",
       "      <th>Brooklyn</th>\n",
       "      <td>2.194229</td>\n",
       "      <td>8.707408</td>\n",
       "      <td>23843</td>\n",
       "    </tr>\n",
       "    <tr>\n",
       "      <th>Manhattan</th>\n",
       "      <td>2.597227</td>\n",
       "      <td>23.283374</td>\n",
       "      <td>18102</td>\n",
       "    </tr>\n",
       "    <tr>\n",
       "      <th>Queens</th>\n",
       "      <td>1.908920</td>\n",
       "      <td>23.147488</td>\n",
       "      <td>26548</td>\n",
       "    </tr>\n",
       "    <tr>\n",
       "      <th>Staten Island</th>\n",
       "      <td>1.313163</td>\n",
       "      <td>3.027469</td>\n",
       "      <td>8296</td>\n",
       "    </tr>\n",
       "  </tbody>\n",
       "</table>\n",
       "</div>"
      ],
      "text/plain": [
       "              TOTAL UNITS                  \n",
       "                     mean        std   size\n",
       "BOROUGH1                                   \n",
       "Bronx            3.510152  22.681594   6994\n",
       "Brooklyn         2.194229   8.707408  23843\n",
       "Manhattan        2.597227  23.283374  18102\n",
       "Queens           1.908920  23.147488  26548\n",
       "Staten Island    1.313163   3.027469   8296"
      ]
     },
     "execution_count": 36,
     "metadata": {},
     "output_type": "execute_result"
    }
   ],
   "source": [
    "# Write your function below\n",
    "df['BOROUGH1'] = df.BOROUGH.replace({1: \"Manhattan\", 2: \"Bronx\", 3: \"Brooklyn\", 4: \"Queens\", 5: \"Staten Island\"})\n",
    "df\n",
    "# Graded-Funtion Begin\n",
    "\n",
    "dx = df[[\"BOROUGH\", \"BOROUGH1\"]].dropna()\n",
    "pd.crosstab(dx.BOROUGH, dx.BOROUGH1)\n",
    "\n",
    "df1 = df.groupby(\"BOROUGH1\").agg({\"TOTAL UNITS\": [np.mean, np.std, np.size]})\n",
    "df1\n",
    "\n",
    "# Graded-Funtion End"
   ]
  },
  {
   "cell_type": "code",
   "execution_count": 37,
   "metadata": {},
   "outputs": [
    {
     "data": {
      "text/plain": [
       "(2.079568016026409, 2.3004319839735907)"
      ]
     },
     "execution_count": 37,
     "metadata": {},
     "output_type": "execute_result"
    }
   ],
   "source": [
    "# Write your function below\n",
    "mean_Brooklyn = 2.19 \n",
    "sd = 8.70  \n",
    "n = 23843 \n",
    "z = 1.96\n",
    "\n",
    "# calculation Standard Error\n",
    "se = sd / np.sqrt(n)\n",
    "\n",
    "# construct the CI\n",
    "lcb = mean_Brooklyn - z * se \n",
    "ucb = mean_Brooklyn + z * se \n",
    "lcb, ucb"
   ]
  },
  {
   "cell_type": "code",
   "execution_count": 38,
   "metadata": {},
   "outputs": [
    {
     "name": "stderr",
     "output_type": "stream",
     "text": [
      "C:\\Users\\ADMINISTRATOR-TI\\anaconda3\\lib\\site-packages\\seaborn\\distributions.py:2557: FutureWarning: `distplot` is a deprecated function and will be removed in a future version. Please adapt your code to use either `displot` (a figure-level function with similar flexibility) or `histplot` (an axes-level function for histograms).\n",
      "  warnings.warn(msg, FutureWarning)\n"
     ]
    },
    {
     "data": {
      "image/png": "[encoded data removed]",
      "text/plain": [
       "<Figure size 288x360 with 1 Axes>"
      ]
     },
     "metadata": {},
     "output_type": "display_data"
    }
   ],
   "source": [
    "sns.distplot(df1, \n",
    "            color=\"red\")\n",
    "plt.xlabel(\"\", labelpad=14)\n",
    "plt.ylabel(\"probability of occurance\", labelpad=20)\n",
    "plt.title(\"Distribution of Total Units per Borough\", y=1.210,\n",
    "         fontsize=16);"
   ]
  },
  {
   "cell_type": "code",
   "execution_count": 39,
   "metadata": {},
   "outputs": [
    {
     "name": "stdout",
     "output_type": "stream",
     "text": [
      "18102 2.5972268257651088 23.283373558631993\n",
      "----------------------------------------\n",
      "6994 3.510151558478696 22.6815940552237\n",
      "----------------------------------------\n",
      "23843 2.1942289141467097 8.707408054816261\n",
      "----------------------------------------\n",
      "26548 1.9089196926322134 23.147488453675663\n",
      "----------------------------------------\n",
      "8296 1.3131629701060752 3.027469229263221\n"
     ]
    }
   ],
   "source": [
    "Manhattan = df[df[\"BOROUGH\"] == 1]\n",
    "Bronx = df[df[\"BOROUGH\"] == 2]\n",
    "Brooklyn = df[df[\"BOROUGH\"] == 3]\n",
    "Queens = df[df[\"BOROUGH\"] == 4]\n",
    "Staten_Island = df[df[\"BOROUGH\"] == 5]\n",
    "\n",
    "n1 = len(Manhattan)\n",
    "mu1 = Manhattan[\"TOTAL UNITS\"].mean()\n",
    "sd1 = Manhattan[\"TOTAL UNITS\"].std()\n",
    "print(n1, mu1, sd1)\n",
    "\n",
    "print('----'*10)\n",
    "\n",
    "n2 = len(Bronx)\n",
    "mu2 = Bronx[\"TOTAL UNITS\"].mean()\n",
    "sd2 = Bronx[\"TOTAL UNITS\"].std()\n",
    "print(n2, mu2, sd2)\n",
    "\n",
    "print('----'*10)\n",
    "\n",
    "n3 = len(Brooklyn)\n",
    "mu3 = Brooklyn[\"TOTAL UNITS\"].mean()\n",
    "sd3 = Brooklyn[\"TOTAL UNITS\"].std()\n",
    "print(n3, mu3, sd3)\n",
    "\n",
    "print('----'*10)\n",
    "\n",
    "n4 = len(Queens)\n",
    "mu4 = Queens[\"TOTAL UNITS\"].mean()\n",
    "sd4 = Queens[\"TOTAL UNITS\"].std()\n",
    "print(n4, mu4, sd4)\n",
    "\n",
    "print('----'*10)\n",
    "\n",
    "n5 = len(Staten_Island)\n",
    "mu5 = Staten_Island[\"TOTAL UNITS\"].mean()\n",
    "sd5 = Staten_Island[\"TOTAL UNITS\"].std()\n",
    "print(n5, mu5, sd5)"
   ]
  },
  {
   "cell_type": "code",
   "execution_count": 41,
   "metadata": {},
   "outputs": [
    {
     "data": {
      "image/png": "[encoded data removed]",
      "text/plain": [
       "<Figure size 576x360 with 1 Axes>"
      ]
     },
     "metadata": {},
     "output_type": "display_data"
    },
    {
     "data": {
      "image/png": "[encoded data removed]",
      "text/plain": [
       "<Figure size 576x360 with 1 Axes>"
      ]
     },
     "metadata": {},
     "output_type": "display_data"
    },
    {
     "data": {
      "image/png": "[encoded data removed]",
      "text/plain": [
       "<Figure size 576x360 with 1 Axes>"
      ]
     },
     "metadata": {},
     "output_type": "display_data"
    },
    {
     "data": {
      "image/png": "[encoded data removed]",
      "text/plain": [
       "<Figure size 576x360 with 1 Axes>"
      ]
     },
     "metadata": {},
     "output_type": "display_data"
    },
    {
     "data": {
      "image/png": "[encoded data removed]",
      "text/plain": [
       "<Figure size 576x360 with 1 Axes>"
      ]
     },
     "metadata": {},
     "output_type": "display_data"
    }
   ],
   "source": [
    "plt.figure(figsize=(8,5))\n",
    "plt.title(\"Manhattan's Histogram\", fontsize=16)\n",
    "plt.hist(Manhattan[\"TOTAL UNITS\"].dropna(),edgecolor='k',color='blue',bins=10)\n",
    "plt.ylabel(\"Total Unit\")\n",
    "plt.show()\n",
    "\n",
    "plt.figure(figsize=(8,5))\n",
    "plt.title(\"Bronx's Histogram\", fontsize=16)\n",
    "plt.hist(Bronx[\"TOTAL UNITS\"].dropna(),edgecolor='k',color='grey',bins=10)\n",
    "plt.ylabel(\"Total Unit\")\n",
    "plt.show()\n",
    "\n",
    "plt.figure(figsize=(8,5))\n",
    "plt.title(\"Brooklyn's Histogram\", fontsize=16)\n",
    "plt.hist(Brooklyn[\"TOTAL UNITS\"].dropna(),edgecolor='k',color='green',bins=10)\n",
    "plt.ylabel(\"Total Unit\")\n",
    "plt.show()\n",
    "\n",
    "plt.figure(figsize=(8,5))\n",
    "plt.title(\"Queens's Histogram\", fontsize=16)\n",
    "plt.hist(Queens[\"TOTAL UNITS\"].dropna(),edgecolor='k',color='black',bins=10)\n",
    "plt.ylabel(\"Total Unit\")\n",
    "plt.show()\n",
    "\n",
    "plt.figure(figsize=(8,5))\n",
    "plt.title(\"Staten Island's Histogram\", fontsize=16)\n",
    "plt.hist(Staten_Island[\"TOTAL UNITS\"].dropna(),edgecolor='k',color='yellow',bins=10)\n",
    "plt.ylabel(\"Total Unit\")\n",
    "plt.show()"
   ]
  },
  {
   "cell_type": "markdown",
   "metadata": {},
   "source": [
    "Write your final conclusion below.\n",
    "\n",
    "Berdasarkan data diatas dapat diketahui bahwa penjualan unit apartemen paling banyak di NYC adalah di wilayah Quuens dengan penjualan sebanyak 28.000 unit, disusul oleh Brooklyn sebanyak 24.000 unit, Manhattan 18.000 unit, staten island's sebanyak 9000 unit dan Bronx's sebanyak 7000 unit \n",
    "\n",
    "Your conclusion below are graded. (1 Points)"
   ]
  }
 ],
 "metadata": {
  "kernelspec": {
   "display_name": "Python 3",
   "language": "python",
   "name": "python3"
  },
  "language_info": {
   "codemirror_mode": {
    "name": "ipython",
    "version": 3
   },
   "file_extension": ".py",
   "mimetype": "text/x-python",
   "name": "python",
   "nbconvert_exporter": "python",
   "pygments_lexer": "ipython3",
   "version": "3.8.8"
  },
  "toc": {
   "base_numbering": 1,
   "nav_menu": {},
   "number_sections": true,
   "sideBar": true,
   "skip_h1_title": false,
   "title_cell": "Table of Contents",
   "title_sidebar": "Contents",
   "toc_cell": false,
   "toc_position": {},
   "toc_section_display": true,
   "toc_window_display": false
  }
 },
 "nbformat": 4,
 "nbformat_minor": 2
}
